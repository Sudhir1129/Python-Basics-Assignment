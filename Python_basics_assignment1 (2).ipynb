{
  "nbformat": 4,
  "nbformat_minor": 0,
  "metadata": {
    "colab": {
      "provenance": []
    },
    "kernelspec": {
      "name": "python3",
      "display_name": "Python 3"
    },
    "language_info": {
      "name": "python"
    }
  },
  "cells": [
    {
      "cell_type": "markdown",
      "source": [
        "#**Python Basics Assignment**"
      ],
      "metadata": {
        "id": "XI-MmZeaLBp7"
      }
    },
    {
      "cell_type": "markdown",
      "source": [
        " 1. What is Python, and why is it popular?\n",
        "    - **Python** is a **high-level, general-purpose programming language** known for its simplicity and readability, created by **Guido van Rossum** in 1991. It is widely used for **web development**, **data science**, **machine learning**, **automation**, and more due to its **extensive libraries**, **cross-platform support**, and **large community**.\n",
        "\n",
        "### **Importance**:\n",
        "1. **Versatile**: Used in diverse fields like AI, data science, and web development.  \n",
        "2. **Easy to Learn**: Simple syntax, beginner-friendly.  \n",
        "3. **Rich Libraries**: Supports tasks like automation, ML, and analytics.  \n",
        "4. **High Demand**: Popular in the job market with strong career prospects.  \n",
        "\n"
      ],
      "metadata": {
        "id": "A7fgUYTNNvmS"
      }
    },
    {
      "cell_type": "code",
      "source": [],
      "metadata": {
        "id": "iI3vI8uWR7k-"
      },
      "execution_count": null,
      "outputs": []
    },
    {
      "cell_type": "markdown",
      "source": [
        "2. What is an interpreter in Python?\n",
        "   - An **interpreter** in Python is a program that executes Python code line by line. It translates high-level code into machine-readable format, making it easier to debug and run programs without prior compilation."
      ],
      "metadata": {
        "id": "6_hBRab8SKRo"
      }
    },
    {
      "cell_type": "code",
      "source": [],
      "metadata": {
        "id": "IqDz6LNITKkG"
      },
      "execution_count": null,
      "outputs": []
    },
    {
      "cell_type": "markdown",
      "source": [
        "3. What are pre-defined keywords in Python?\n",
        "  - Predefined keywords in Python are reserved words that have specific meanings and cannot be used as variable names. Examples include `if`, `else`, `while`, `for`, `def`, `class`, `True`, `False`, and `None`."
      ],
      "metadata": {
        "id": "Wlw-ciPJTkBN"
      }
    },
    {
      "cell_type": "code",
      "source": [],
      "metadata": {
        "id": "RIe-E5VdUOZM"
      },
      "execution_count": null,
      "outputs": []
    },
    {
      "cell_type": "markdown",
      "source": [
        "4. Can keywords be used as variable names?\n",
        "  - No, keywords cannot be used as variable names in Python because they are reserved for specific purposes."
      ],
      "metadata": {
        "id": "GxMpa-_uUP4K"
      }
    },
    {
      "cell_type": "code",
      "source": [
        "5"
      ],
      "metadata": {
        "id": "aFnbaB7YVBNb"
      },
      "execution_count": null,
      "outputs": []
    },
    {
      "cell_type": "markdown",
      "source": [
        "5. What is mutability in Python?\n",
        "  - Mutability in Python refers to an object's ability to be changed after it is created."
      ],
      "metadata": {
        "id": "8h2jRNgBVEsd"
      }
    },
    {
      "cell_type": "code",
      "source": [],
      "metadata": {
        "id": "KcVXYO6dV2oz"
      },
      "execution_count": null,
      "outputs": []
    },
    {
      "cell_type": "markdown",
      "source": [
        "6.Why are lists mutable, but tuples are immutable?\n",
        "  - Lists are mutable because they are designed to allow modification, like adding, removing, or changing elements after creation. This makes them flexible for dynamic data handling.\n",
        "\n",
        "Tuples are immutable to provide stability and efficiency. Since they cannot be changed, they are faster to access and safer for storing data that shouldn't be altered, like constants or keys in dictionaries."
      ],
      "metadata": {
        "id": "ueTkaNBYV6MC"
      }
    },
    {
      "cell_type": "markdown",
      "source": [
        "7. What is the difference between “==” and “is” operators in Python?\n",
        "  - The difference between `==` and `is` in Python:  \n",
        "\n",
        " **`==` (Equality Operator)**:  \n",
        "   - Checks if values of two objects are equal.  \n",
        "\n",
        " **`is` (Identity Operator)**:  \n",
        "   - Checks if two objects refer to the same memory location.  \n",
        "   \n",
        "- `==` compares **content**, while `is` compares **identity**."
      ],
      "metadata": {
        "id": "OrtqLKHfXg-h"
      }
    },
    {
      "cell_type": "markdown",
      "source": [
        "8.What are logical operators in Python?\n",
        " - Logical operators in Python:\n",
        "\n",
        "  - \"and\": True if both conditions are true.\n",
        "\n",
        "  - \"or\" : True if at least one condition is true.\n",
        "\n",
        "  - \"not\" : Reverses the condition's result."
      ],
      "metadata": {
        "id": "9XD-D8n6YcF8"
      }
    },
    {
      "cell_type": "markdown",
      "source": [
        "9. What is type casting in Python?\n",
        " - Type casting in Python is converting one data type into another, either manually  or automatically ."
      ],
      "metadata": {
        "id": "25qyL0DwZrEd"
      }
    },
    {
      "cell_type": "markdown",
      "source": [
        "10. What is the difference between implicit and explicit type casting?\n",
        "### **Difference Between Implicit and Explicit Type Casting**:\n",
        "\n",
        "- **Implicit Type Casting**:  \n",
        "   - Done automatically by Python.  \n",
        "   - Converts smaller or less precise data types to larger or more precise ones.  \n",
        "   - No user intervention is needed.  \n",
        "- **Explicit Type Casting**:  \n",
        "   - Done manually by the programmer using casting functions like `int()`, `float()`, or `str()`.  \n",
        "  "
      ],
      "metadata": {
        "id": "OyXS_AbQaZJa"
      }
    },
    {
      "cell_type": "markdown",
      "source": [
        "11.What is the purpose of conditional statements in Python?\n",
        "- The purpose of conditional statements in Python is to execute specific blocks of code based on whether a given condition is True or False. They help in decision-making within programs."
      ],
      "metadata": {
        "id": "x-NI5XkPbQ3n"
      }
    },
    {
      "cell_type": "code",
      "source": [],
      "metadata": {
        "id": "qlPJCpIKY_aD"
      },
      "execution_count": null,
      "outputs": []
    },
    {
      "cell_type": "markdown",
      "source": [
        "12. How does the elif statement work?\n",
        "- The elif statement in Python stands for \"else if.\" It is used to check multiple conditions sequentially after an if statement. If the if condition is False, Python evaluates each elif condition in order until one is True. If none are True, the optional else block executes."
      ],
      "metadata": {
        "id": "rm8kydI7bi6o"
      }
    },
    {
      "cell_type": "code",
      "source": [],
      "metadata": {
        "id": "_qhru12ab8bW"
      },
      "execution_count": null,
      "outputs": []
    },
    {
      "cell_type": "markdown",
      "source": [
        "13. What is the difference between for and while loops?\n",
        "- Difference Between for and while Loops:\n",
        "**For Loop:**\n",
        "\n",
        "Used when the number of iterations is known or when iterating over a sequence (e.g., list, range).\n",
        "\n",
        "**While Loop:**\n",
        "\n",
        "Used when the number of iterations is unknown and depends on a condition being True."
      ],
      "metadata": {
        "id": "unibFL_gb9W-"
      }
    },
    {
      "cell_type": "code",
      "source": [],
      "metadata": {
        "id": "Sby5qmeKc2eK"
      },
      "execution_count": null,
      "outputs": []
    },
    {
      "cell_type": "markdown",
      "source": [
        "14.Describe a scenario where a while loop is more suitable than a for loop.\n",
        "- A while loop is suitable when you don't know the number of iterations in advance and the loop continues based on a condition.\n",
        "\n",
        "Example:\n",
        "When asking a user for their password until they enter the correct one:\n",
        "This continues until the user enters the correct password."
      ],
      "metadata": {
        "id": "VmWRVqPVdlxS"
      }
    },
    {
      "cell_type": "code",
      "source": [],
      "metadata": {
        "id": "S1zdYny7fjIR"
      },
      "execution_count": null,
      "outputs": []
    },
    {
      "cell_type": "markdown",
      "source": [
        "#**Practical Question**"
      ],
      "metadata": {
        "id": "HrNtOditfprT"
      }
    },
    {
      "cell_type": "code",
      "source": [],
      "metadata": {
        "id": "4gpsD15Hf67y"
      },
      "execution_count": null,
      "outputs": []
    },
    {
      "cell_type": "markdown",
      "source": [
        "1.Write a Python program to print \"Hello, World!\"\n",
        "\n"
      ],
      "metadata": {
        "id": "8_0vs5a7gtU0"
      }
    },
    {
      "cell_type": "code",
      "source": [
        "print(\"Hello, World!\")\n"
      ],
      "metadata": {
        "colab": {
          "base_uri": "https://localhost:8080/"
        },
        "id": "XFt56HE_g6mm",
        "outputId": "a388dccb-632e-41d3-d40f-a5a71f615a98"
      },
      "execution_count": 12,
      "outputs": [
        {
          "output_type": "stream",
          "name": "stdout",
          "text": [
            "Hello, World!\n"
          ]
        }
      ]
    },
    {
      "cell_type": "markdown",
      "source": [
        "2.Write a Python program that displays your name and age"
      ],
      "metadata": {
        "id": "LxGBdJa6hOqW"
      }
    },
    {
      "cell_type": "code",
      "source": [
        "name = \"Sudhir Singh\"\n",
        "age = 30\n",
        "print(\"Name:\", name)\n",
        "print(\"Age:\", age)\n"
      ],
      "metadata": {
        "colab": {
          "base_uri": "https://localhost:8080/"
        },
        "id": "OugWQClchmdw",
        "outputId": "1c1af231-1a3b-4678-ce76-7f6f596bf65e"
      },
      "execution_count": 13,
      "outputs": [
        {
          "output_type": "stream",
          "name": "stdout",
          "text": [
            "Name: Sudhir Singh\n",
            "Age: 30\n"
          ]
        }
      ]
    },
    {
      "cell_type": "markdown",
      "source": [
        " 3.Write code to print all the pre-defined keywords in Python using the keyword library"
      ],
      "metadata": {
        "id": "CgXG5dIuiCxS"
      }
    },
    {
      "cell_type": "code",
      "source": [
        "#  All Python pre-defined  keywords using keywords library\n",
        "print(keyword.kwlist)"
      ],
      "metadata": {
        "colab": {
          "base_uri": "https://localhost:8080/"
        },
        "id": "4t1xZobnh016",
        "outputId": "e873f802-249b-4e26-c87e-1501ca864b1d"
      },
      "execution_count": 22,
      "outputs": [
        {
          "output_type": "stream",
          "name": "stdout",
          "text": [
            "['False', 'None', 'True', 'and', 'as', 'assert', 'async', 'await', 'break', 'class', 'continue', 'def', 'del', 'elif', 'else', 'except', 'finally', 'for', 'from', 'global', 'if', 'import', 'in', 'is', 'lambda', 'nonlocal', 'not', 'or', 'pass', 'raise', 'return', 'try', 'while', 'with', 'yield']\n"
          ]
        }
      ]
    },
    {
      "cell_type": "markdown",
      "source": [
        "4. Write a program that checks if a given word is a Python keyword"
      ],
      "metadata": {
        "id": "eRUnQFtbjVFm"
      }
    },
    {
      "cell_type": "code",
      "source": [
        "word = input(\"Enter a word: \")\n",
        "\n",
        "if keyword.iskeyword(word):\n",
        "    print(word, \"is a keyword\")\n",
        "else:\n",
        "    print(word, \"is not a keyword\")\n",
        "\n"
      ],
      "metadata": {
        "colab": {
          "base_uri": "https://localhost:8080/"
        },
        "id": "gl1P_I0ijktB",
        "outputId": "fc77c37d-ca02-4172-924f-b4bf1994ce11"
      },
      "execution_count": 24,
      "outputs": [
        {
          "output_type": "stream",
          "name": "stdout",
          "text": [
            "Enter a word: True\n",
            "True is a keyword\n"
          ]
        }
      ]
    },
    {
      "cell_type": "markdown",
      "source": [
        "5.Create a list and tuple in Python, and demonstrate how attempting to change an element works differently\n",
        "for each"
      ],
      "metadata": {
        "id": "H_uPiOeakvEX"
      }
    },
    {
      "cell_type": "code",
      "source": [
        "# Create a list\n",
        "my_list = [1, 2, 3, 4]\n",
        "# Try to change an element in the list\n",
        "my_list[0] = 10\n",
        "print(\"List after change:\", my_list)\n",
        "\n",
        "# Create a tuple\n",
        "my_tuple = (1, 2, 3, 4)\n",
        "# Try to change an element in the tuple\n",
        "try:\n",
        "    my_tuple[0] = 10\n",
        "except TypeError as e:\n",
        "    print(\"Error while changing tuple:\", e)\n",
        ""
      ],
      "metadata": {
        "colab": {
          "base_uri": "https://localhost:8080/"
        },
        "id": "n31Op5xzkQs_",
        "outputId": "96624428-e1ae-4777-9c62-b8f08892ffb3"
      },
      "execution_count": 26,
      "outputs": [
        {
          "output_type": "stream",
          "name": "stdout",
          "text": [
            "List after change: [10, 2, 3, 4]\n",
            "Error while changing tuple: 'tuple' object does not support item assignment\n"
          ]
        }
      ]
    },
    {
      "cell_type": "code",
      "source": [],
      "metadata": {
        "id": "nKEdjPeAlmcS"
      },
      "execution_count": null,
      "outputs": []
    },
    {
      "cell_type": "markdown",
      "source": [
        "6.Write a function to demonstrate the behavior of mutable and immutable arguments"
      ],
      "metadata": {
        "id": "tU3npk-Mln3l"
      }
    },
    {
      "cell_type": "code",
      "source": [
        "def test_mutable_immutable(mutable_arg, immutable_arg):\n",
        "    # Modifying the mutable argument\n",
        "    mutable_arg.append(4)\n",
        "\n",
        "    # Trying to modify the immutable argument\n",
        "    try:\n",
        "        immutable_arg[0] = 99\n",
        "    except TypeError as e:\n",
        "        print(\"Error with immutable argument:\", e)\n",
        "\n",
        "    print(\"Mutable argument after modification:\", mutable_arg)\n",
        "    print(\"Immutable argument after modification:\", immutable_arg)\n",
        "\n",
        "# Example usage\n",
        "my_list = [1, 2, 3]\n",
        "my_tuple = (1, 2, 3)\n",
        "\n",
        "test_mutable_immutable(my_list, my_tuple)\n",
        "\n"
      ],
      "metadata": {
        "colab": {
          "base_uri": "https://localhost:8080/"
        },
        "id": "RAR6j6taluF5",
        "outputId": "e172fe7e-a135-461e-90d1-f76bc140717f"
      },
      "execution_count": 27,
      "outputs": [
        {
          "output_type": "stream",
          "name": "stdout",
          "text": [
            "Error with immutable argument: 'tuple' object does not support item assignment\n",
            "Mutable argument after modification: [1, 2, 3, 4]\n",
            "Immutable argument after modification: (1, 2, 3)\n"
          ]
        }
      ]
    },
    {
      "cell_type": "markdown",
      "source": [
        "7. Write a function to demonstrate the behavior of mutable and immutable arguments\n"
      ],
      "metadata": {
        "id": "5cSUh126mJ3a"
      }
    },
    {
      "cell_type": "code",
      "source": [
        "def demo_mutable_immutable(mutable_arg, immutable_arg):\n",
        "    # Modifying the mutable argument (list)\n",
        "    mutable_arg.append(4)\n",
        "\n",
        "    # Trying to modify the immutable argument (tuple)\n",
        "    try:\n",
        "        immutable_arg[0] = 99\n",
        "    except TypeError as e:\n",
        "        print(\"Error with immutable argument:\", e)\n",
        "\n",
        "    print(\"Mutable argument after modification:\", mutable_arg)\n",
        "    print(\"Immutable argument after modification:\", immutable_arg)\n",
        "\n",
        "# Example usage\n",
        "my_list = [1, 2, 3]\n",
        "my_tuple = (1, 2, 3)\n",
        "\n",
        "demo_mutable_immutable(my_list, my_tuple)\n"
      ],
      "metadata": {
        "colab": {
          "base_uri": "https://localhost:8080/"
        },
        "id": "01OrZXXbmO9g",
        "outputId": "6c4ae340-f5ba-43c8-b7ea-e2534c92c0bd"
      },
      "execution_count": 28,
      "outputs": [
        {
          "output_type": "stream",
          "name": "stdout",
          "text": [
            "Error with immutable argument: 'tuple' object does not support item assignment\n",
            "Mutable argument after modification: [1, 2, 3, 4]\n",
            "Immutable argument after modification: (1, 2, 3)\n"
          ]
        }
      ]
    },
    {
      "cell_type": "markdown",
      "source": [
        "8. Write a program to demonstrate the use of logical operators"
      ],
      "metadata": {
        "id": "dUH-tDlVmtWj"
      }
    },
    {
      "cell_type": "code",
      "source": [
        "x = 10\n",
        "y = 5\n",
        "z = 20\n",
        "\n",
        "# Using 'and' operator\n",
        "if x > y and x < z:\n",
        "    print(\"x is greater than y and less than z\")\n",
        "\n",
        "# Using 'or' operator\n",
        "if x > y or x > z:\n",
        "    print(\"x is greater than y or greater than z\")\n",
        "\n",
        "# Using 'not' operator\n",
        "if not(x > z):\n",
        "    print(\"x is not greater than z\")\n",
        "\n"
      ],
      "metadata": {
        "colab": {
          "base_uri": "https://localhost:8080/"
        },
        "id": "sefIsMxrm3qj",
        "outputId": "25648703-b766-4060-b19c-6eca5880b240"
      },
      "execution_count": 29,
      "outputs": [
        {
          "output_type": "stream",
          "name": "stdout",
          "text": [
            "x is greater than y and less than z\n",
            "x is greater than y or greater than z\n",
            "x is not greater than z\n"
          ]
        }
      ]
    },
    {
      "cell_type": "markdown",
      "source": [
        "9. Write a Python program to convert user input from string to integer, float, and boolean types"
      ],
      "metadata": {
        "id": "z_Qr5ED_nOi7"
      }
    },
    {
      "cell_type": "code",
      "source": [
        "# Get user input as string\n",
        "user_input = input(\"Enter a value: \")\n",
        "\n",
        "# Convert to integer\n",
        "int_value = int(user_input)\n",
        "print(\"Integer:\", int_value)\n",
        "\n",
        "# Convert to float\n",
        "float_value = float(user_input)\n",
        "print(\"Float:\", float_value)\n",
        "\n",
        "# Convert to boolean\n",
        "bool_value = bool(user_input)\n",
        "print(\"Boolean:\", bool_value)\n"
      ],
      "metadata": {
        "colab": {
          "base_uri": "https://localhost:8080/"
        },
        "id": "No-_1PIunalB",
        "outputId": "d34658b0-0358-436d-9a51-51362b75a805"
      },
      "execution_count": 30,
      "outputs": [
        {
          "output_type": "stream",
          "name": "stdout",
          "text": [
            "Enter a value: 67\n",
            "Integer: 67\n",
            "Float: 67.0\n",
            "Boolean: True\n"
          ]
        }
      ]
    },
    {
      "cell_type": "markdown",
      "source": [
        "10 Write code to demonstrate type casting with list elements"
      ],
      "metadata": {
        "id": "UwGRVfH3nyjx"
      }
    },
    {
      "cell_type": "code",
      "source": [
        "# Original list with mixed data types\n",
        "my_list = [\"10\", \"3.5\", \"True\"]\n",
        "\n",
        "# Type casting elements of the list\n",
        "int_value = int(my_list[0])  # Convert string to int\n",
        "float_value = float(my_list[1])  # Convert string to float\n",
        "bool_value = bool(my_list[2])  # Convert string to boolean\n",
        "\n",
        "# Printing the results\n",
        "print(\"Integer value:\", int_value)\n",
        "print(\"Float value:\", float_value)\n",
        "print(\"Boolean value:\", bool_value)\n"
      ],
      "metadata": {
        "colab": {
          "base_uri": "https://localhost:8080/"
        },
        "id": "vtqcVPkGn2SY",
        "outputId": "a0a01e9f-e7b5-410a-bf78-3a51175bb358"
      },
      "execution_count": 31,
      "outputs": [
        {
          "output_type": "stream",
          "name": "stdout",
          "text": [
            "Integer value: 10\n",
            "Float value: 3.5\n",
            "Boolean value: True\n"
          ]
        }
      ]
    },
    {
      "cell_type": "markdown",
      "source": [
        "11. Write a program that checks if a number is positive, negative, or zero\n"
      ],
      "metadata": {
        "id": "C0Vj3WVdol-j"
      }
    },
    {
      "cell_type": "code",
      "source": [
        "# Get user input\n",
        "num = float(input(\"Enter a number: \"))\n",
        "\n",
        "# Check if the number is positive, negative, or zero\n",
        "if num > 0:\n",
        "    print(\"The number is positive.\")\n",
        "elif num < 0:\n",
        "    print(\"The number is negative.\")\n",
        "else:\n",
        "    print(\"The number is zero.\")\n"
      ],
      "metadata": {
        "colab": {
          "base_uri": "https://localhost:8080/"
        },
        "id": "D0vExyayoqto",
        "outputId": "79db2f6e-e446-4e5e-b027-6dae2dc83372"
      },
      "execution_count": 32,
      "outputs": [
        {
          "output_type": "stream",
          "name": "stdout",
          "text": [
            "Enter a number: 60\n",
            "The number is positive.\n"
          ]
        }
      ]
    },
    {
      "cell_type": "code",
      "source": [],
      "metadata": {
        "id": "x5ojIcIwowGu"
      },
      "execution_count": null,
      "outputs": []
    },
    {
      "cell_type": "markdown",
      "source": [
        "12. Write a for loop to print numbers from 1 to 10"
      ],
      "metadata": {
        "id": "Y_wpyr-Bo9T7"
      }
    },
    {
      "cell_type": "code",
      "source": [
        "for i in range(1, 11):\n",
        "    print(i)\n"
      ],
      "metadata": {
        "colab": {
          "base_uri": "https://localhost:8080/"
        },
        "id": "X5YgAFeQpDC_",
        "outputId": "d5b320ac-f74f-447a-eab2-78645f1d071c"
      },
      "execution_count": 33,
      "outputs": [
        {
          "output_type": "stream",
          "name": "stdout",
          "text": [
            "1\n",
            "2\n",
            "3\n",
            "4\n",
            "5\n",
            "6\n",
            "7\n",
            "8\n",
            "9\n",
            "10\n"
          ]
        }
      ]
    },
    {
      "cell_type": "markdown",
      "source": [
        "13. Write a Python program to find the sum of all even numbers between 1 and 50"
      ],
      "metadata": {
        "id": "Rset_Kb0pvPV"
      }
    },
    {
      "cell_type": "code",
      "source": [
        "sum_of_evens = 0\n",
        "\n",
        "for i in range(2, 51, 2):  # Start from 2, end at 50, with step of 2\n",
        "    sum_of_evens += i\n",
        "\n",
        "print(\"Sum of all even numbers between 1 and 50:\", sum_of_evens)\n"
      ],
      "metadata": {
        "colab": {
          "base_uri": "https://localhost:8080/"
        },
        "id": "sgt-mKZtp0Ay",
        "outputId": "917338c0-fbcf-4619-a854-a6843e78c38e"
      },
      "execution_count": 34,
      "outputs": [
        {
          "output_type": "stream",
          "name": "stdout",
          "text": [
            "Sum of all even numbers between 1 and 50: 650\n"
          ]
        }
      ]
    },
    {
      "cell_type": "markdown",
      "source": [
        "14. Write a program to reverse a string using a while loop"
      ],
      "metadata": {
        "id": "J2M4ZxarqKKB"
      }
    },
    {
      "cell_type": "code",
      "source": [
        "# Get input from the user\n",
        "string = input(\"Enter a string: \")\n",
        "\n",
        "# Initialize variables\n",
        "reversed_string = \"\"\n",
        "index = len(string) - 1\n",
        "\n",
        "# Reverse the string using a while loop\n",
        "while index >= 0:\n",
        "    reversed_string += string[index]\n",
        "    index -= 1\n",
        "\n",
        "print(\"Reversed string:\", reversed_string)\n"
      ],
      "metadata": {
        "colab": {
          "base_uri": "https://localhost:8080/"
        },
        "id": "uh4b77vRp-09",
        "outputId": "6c586dfb-6aa6-4214-d5a4-28b6da8a4054"
      },
      "execution_count": 35,
      "outputs": [
        {
          "output_type": "stream",
          "name": "stdout",
          "text": [
            "Enter a string: sudhir\n",
            "Reversed string: rihdus\n"
          ]
        }
      ]
    },
    {
      "cell_type": "markdown",
      "source": [
        "15. Write a Python program to calculate the factorial of a number provided by the user using a while loop"
      ],
      "metadata": {
        "id": "J0J_yiTBqe9O"
      }
    },
    {
      "cell_type": "code",
      "source": [
        "# Get input from the user\n",
        "num = int(input(\"Enter a number: \"))\n",
        "\n",
        "# Initialize variables\n",
        "factorial = 1\n",
        "i = 1\n",
        "\n",
        "# Calculate factorial using a while loop\n",
        "while i <= num:\n",
        "    factorial *= i\n",
        "    i += 1\n",
        "\n",
        "print(\"Factorial of\", num, \"is:\", factorial)\n",
        "\n"
      ],
      "metadata": {
        "colab": {
          "base_uri": "https://localhost:8080/"
        },
        "id": "mUBy7SnNqXZp",
        "outputId": "e51ff09c-33c4-45da-fc65-d77439700ff9"
      },
      "execution_count": 36,
      "outputs": [
        {
          "output_type": "stream",
          "name": "stdout",
          "text": [
            "Enter a number: 1524\n",
            "Factorial of 1524 is: 988337919181614470059956381003060378382750642598198415092149264747667362844766626417608927989260863719001711617316459630434249377194193839295954780704059818982828751608928391603795687553114825925628827502890724958170852364894634657150330908543677548213506652159214271493719164216761311533256602887634741986415411371238037953200112812869310716675000722680747918853322219301924607739868429844342437484826073699667991864905269214501116917984193122206590950836460986551836723445993350180950553492622253457640914823630238395134948792622785171704220012472525454653737045555965381284820744091323322071875391007438464915089703867176614176869992838777682238900973290755203261928502275452795995363550112879387096878654095222744285164112423915423093218188234088563751729160577240199860616447463889291279580344022299482871095489345662917546345542365959170840815796273060771018687481696380790575079149335415417646980853445508395242624080284559612663449885303995834582520868633099597198510306963561083373021426879266727349337697032572731702986784441193298267062688657632948281635151167621880380921437316586046272302885526854799504409308145293118379261224274342234890656337699777524561114567426366076401095364146156817873499648106588272278900472043473062119584978546517750069805654550340689312436532336094758968840704348937048684094327394436879369062847154324483495210403220298161306512641359272659276027006474257219407500539880748379944588140123231196586487090902034202177560838474362165024157412772705400474513593014420195022673407882379874536270136692380262104030207388113039514089189167112826414851709947562674458723168625998309271803912172456504930481157960834964497569109608623578024618966834896539729378256949792090595624003898011093809018730166927647837056305257173935429397322335345275386570671737436219960687999124961092857273203193086828643648463934584301264338085309716360593902589954213540054420761775758394285828080470643239518587226396967091165903396289446569609709247748129869729320379945907504570124845072449064791398723286372250143372148982442754611106181751620292417756888585259412518108985558509100975747378048083232495406519847081134322044800135579725570888089271881230006959954936297076875045227289303362331902623051689366528210070878861409783346655972745315342567970452701384865307515621042907576760721671729441621421219873125026369727364227774916820279889389527511050598590860785072479671941719190127845498131050429014520482959601368193295326067665317597993287784707573347134972589450669201273981030572775137133836076887093954215101476118509536179525731832558695370712664991458878433613088859476591958579185359288653463340417631773768460739226174824932828990181354085067106793398247452966079327104768060577172434002501429680857624233375272646956952478945287517405600549252288158525845459017350275526914725333467104279183086119294834515077251542398966660034422178143012644108167947014096433039560410014477239174830854534279793684422389443295290128727663560061481940436485142387442653770353883197791551852081081066199091932577458176446652771948158875045343447015819884739229356044707404126876562678020827687584875011398425215274301245459559801874951402128567605140953010168412432450951938817439960377565469810690071503538950694887076249929141757030110771151752201073683797153722394522830160730959727229363821021983830306973771354992359126105899442836957866567964180589359604892113493712799899433582244216832173788204166923804782188040360819974506601650294440728739443098752218525445145418854453958426928517685876490091030296623195202435163638199208843639367685387510078876757938787954172838328109576877871214840901250879900693244434160393750533496891046801992106011258734876112917078525137353062557367890628116228927690795969161259520085484248767269320758390909613896732074670701875437609425171412739424256000000000000000000000000000000000000000000000000000000000000000000000000000000000000000000000000000000000000000000000000000000000000000000000000000000000000000000000000000000000000000000000000000000000000000000000000000000000000000000000000000000000000000000000000000000000000000000000000000000000000000000000000000000000000000000000000000000000000000000000000000000000000000000\n"
          ]
        }
      ]
    },
    {
      "cell_type": "code",
      "source": [],
      "metadata": {
        "id": "mC2Kb4iwqsVA"
      },
      "execution_count": null,
      "outputs": []
    }
  ]
}